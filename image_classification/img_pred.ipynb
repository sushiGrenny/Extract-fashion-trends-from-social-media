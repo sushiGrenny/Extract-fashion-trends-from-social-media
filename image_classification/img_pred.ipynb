{
  "cells": [
    {
      "cell_type": "code",
      "execution_count": 1,
      "metadata": {
        "id": "Vpebb0vi-ERI"
      },
      "outputs": [],
      "source": [
        "import torch\n",
        "#from fastai.vision import *\n",
        "from fastai.vision import Path,get_image_files,open_image,get_transforms,ImageDataBunch,imagenet_stats,cnn_learner,models,ClassificationInterpretation\n",
        "import pandas as pd\n",
        "import numpy as np\n",
        "import warnings\n",
        "from fastai.metrics import error_rate\n",
        "from fastai.vision import Path\n",
        "\n",
        "warnings.filterwarnings('ignore')\n",
        "np.random.seed(2)\n",
        "\n",
        "from fastai import *\n",
        "from fastai.vision import *\n",
        "from fastai.core import *"
      ]
    },
    {
      "cell_type": "code",
      "execution_count": null,
      "metadata": {
        "id": "EiO-1TWOEE8d"
      },
      "outputs": [],
      "source": [
        "#pip install fastai==1.0.61"
      ]
    },
    {
      "cell_type": "code",
      "execution_count": 15,
      "metadata": {
        "colab": {
          "base_uri": "https://localhost:8080/"
        },
        "id": "lCcRno1IHwGQ",
        "outputId": "187c1544-724b-4bc2-d1fa-edd3e78a163f"
      },
      "outputs": [
        {
          "name": "stdout",
          "output_type": "stream",
          "text": [
            "Mounted at /content/gdrive\n"
          ]
        }
      ],
      "source": [
        "from google.colab import drive\n",
        "drive.mount('/content/gdrive', force_remount = True)"
      ]
    },
    {
      "cell_type": "code",
      "execution_count": 16,
      "metadata": {
        "id": "psYu-t1AHK8u"
      },
      "outputs": [],
      "source": [
        "path = 'gdrive/MyDrive/Saved_model'"
      ]
    },
    {
      "cell_type": "code",
      "execution_count": 30,
      "metadata": {
        "id": "ICQ3JYncEFY7"
      },
      "outputs": [],
      "source": [
        "learn = load_learner(path, 'saved_model.pkl')"
      ]
    },
    {
      "cell_type": "code",
      "execution_count": 31,
      "metadata": {
        "id": "CWLYB2P2LHK3"
      },
      "outputs": [],
      "source": [
        "labels = pd.read_csv('gdrive/MyDrive/labels.csv')\n",
        "label = labels.values.tolist()"
      ]
    },
    {
      "cell_type": "code",
      "execution_count": 38,
      "metadata": {
        "colab": {
          "base_uri": "https://localhost:8080/",
          "height": 97
        },
        "id": "9JJp4F4yEFaT",
        "outputId": "ead47769-dd8f-4b58-fae6-d93adaa2c6b0"
      },
      "outputs": [
        {
          "data": {
            "image/jpeg": "[encoded data removed]",
            "image/png": "[encoded data removed]",
            "text/plain": [
              "Image (3, 80, 60)"
            ]
          },
          "execution_count": 38,
          "metadata": {},
          "output_type": "execute_result"
        }
      ],
      "source": [
        "img = open_image('gdrive/MyDrive/test_imgs/1929.jpg')\n",
        "img\n"
      ]
    },
    {
      "cell_type": "code",
      "execution_count": 39,
      "metadata": {
        "colab": {
          "base_uri": "https://localhost:8080/"
        },
        "id": "WaP4XsRkIrzq",
        "outputId": "484bac1c-a014-4ca6-ac9d-f438c5f5cac1"
      },
      "outputs": [
        {
          "data": {
            "text/plain": [
              "['Men-Shoes']"
            ]
          },
          "execution_count": 39,
          "metadata": {},
          "output_type": "execute_result"
        }
      ],
      "source": [
        "x = learn.predict(img)\n",
        "x = x[1].item()\n",
        "label[x]"
      ]
    },
    {
      "cell_type": "code",
      "execution_count": 40,
      "metadata": {
        "id": "R2x1I-5dOVJB"
      },
      "outputs": [],
      "source": [
        "predictions =[]"
      ]
    },
    {
      "cell_type": "code",
      "execution_count": null,
      "metadata": {
        "id": "vjlZQWO_ets1"
      },
      "outputs": [],
      "source": [
        "!unzip gdrive/MyDrive/insta_img.zip "
      ]
    },
    {
      "cell_type": "code",
      "execution_count": 25,
      "metadata": {
        "id": "Rj-MYssVet24"
      },
      "outputs": [],
      "source": [
        "image_path = 'insta_img/'"
      ]
    },
    {
      "cell_type": "code",
      "execution_count": 41,
      "metadata": {
        "id": "QXLrLTSPPQth"
      },
      "outputs": [],
      "source": [
        "for image in os.listdir(image_path):\n",
        "  test_img = open_image(f'{image_path}/{image}')\n",
        "  x = learn.predict(test_img)\n",
        "  x = x[1].item()\n",
        "  x = label[x]\n",
        "  predictions.append(x)"
      ]
    },
    {
      "cell_type": "code",
      "execution_count": 67,
      "metadata": {
        "colab": {
          "base_uri": "https://localhost:8080/"
        },
        "id": "fRWSKY0ndfdE",
        "outputId": "1ba3df5a-e3eb-4839-b477-b3645630e97a"
      },
      "outputs": [
        {
          "data": {
            "text/plain": [
              "[('Shirts-Women', 173),\n",
              " ('Sarees-Women', 93),\n",
              " ('Tshirts-Men', 57),\n",
              " ('Watches-Men', 54),\n",
              " ('Shirts-Men', 48),\n",
              " ('Kurtas-Women-Topwear', 44),\n",
              " ('Watches-Women', 26),\n",
              " ('Jeans-Men-Bottomwear', 25),\n",
              " ('Jackets-Men-Topwear', 17),\n",
              " ('Sports Shoes-Footwear', 11),\n",
              " ('Socks-Accessories', 7),\n",
              " ('Shorts-Men', 6),\n",
              " ('Trousers-Women', 6),\n",
              " ('Nightdress-Women', 5),\n",
              " ('Watches-Unisex', 5),\n",
              " ('Tshirts-Women', 5),\n",
              " ('Kurta Sets-Women', 4),\n",
              " ('Backpacks-Unisex', 4),\n",
              " ('Clutches-Women-Bags', 3),\n",
              " ('Handbags-Women', 3),\n",
              " ('Track Pants-Women', 2),\n",
              " ('Trousers-Men', 2),\n",
              " ('Sandals-Men', 2),\n",
              " ('Men-Shoes', 2),\n",
              " ('Women-Shoes', 1),\n",
              " ('Caps-Unisex', 1),\n",
              " ('Sweaters-Men-Topwear', 1),\n",
              " ('Duffel Bag-Unisex', 1),\n",
              " ('Kurtas-Men-Topwear', 1)]"
            ]
          },
          "execution_count": 67,
          "metadata": {},
          "output_type": "execute_result"
        }
      ],
      "source": [
        "from itertools import chain\n",
        "flatten_list = list(chain.from_iterable(predictions))\n",
        "trend = [[x,flatten_list.count(x)] for x in set(flatten_list)]\n",
        "trend = list(chain.from_iterable(trend))\n",
        "\n",
        "def Convert(lst):\n",
        "    res_dct = {lst[i]: lst[i + 1] for i in range(0, len(lst), 2)}\n",
        "    return res_dct\n",
        "trend = Convert(trend)\n",
        "trend = sorted(trend.items(), key=lambda x: x[1], reverse=True)\n",
        "trend"
      ]
    },
    {
      "cell_type": "code",
      "execution_count": 62,
      "metadata": {
        "id": "NEVheNFgotD-"
      },
      "outputs": [],
      "source": []
    },
    {
      "cell_type": "code",
      "execution_count": 53,
      "metadata": {
        "id": "uGerCw66esTO"
      },
      "outputs": [],
      "source": [
        "\n"
      ]
    },
    {
      "cell_type": "code",
      "execution_count": 63,
      "metadata": {
        "id": "pBR7iwuxesYu"
      },
      "outputs": [],
      "source": [
        "\n"
      ]
    },
    {
      "cell_type": "code",
      "execution_count": 65,
      "metadata": {
        "id": "bGos2QRgesbU"
      },
      "outputs": [],
      "source": []
    },
    {
      "cell_type": "code",
      "execution_count": null,
      "metadata": {
        "id": "Lhg-f8nPp9Lz"
      },
      "outputs": [],
      "source": []
    }
  ],
  "metadata": {
    "colab": {
      "collapsed_sections": [],
      "name": "img_pred.ipynb",
      "provenance": []
    },
    "kernelspec": {
      "display_name": "Python 3.9.1 64-bit",
      "language": "python",
      "name": "python3"
    },
    "language_info": {
      "codemirror_mode": {
        "name": "ipython",
        "version": 3
      },
      "file_extension": ".py",
      "mimetype": "text/x-python",
      "name": "python",
      "nbconvert_exporter": "python",
      "pygments_lexer": "ipython3",
      "version": "3.9.1"
    },
    "vscode": {
      "interpreter": {
        "hash": "81794d4967e6c3204c66dcd87b604927b115b27c00565d3d43f05ba2f3a2cb0d"
      }
    }
  },
  "nbformat": 4,
  "nbformat_minor": 0
}
