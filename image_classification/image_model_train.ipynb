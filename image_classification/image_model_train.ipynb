{
  "cells": [
    {
      "cell_type": "code",
      "execution_count": 69,
      "metadata": {
        "colab": {
          "base_uri": "https://localhost:8080/"
        },
        "id": "UKEI5cG4zS32",
        "outputId": "59c933f2-ebee-4da7-ff9e-3e1a65e8be8c"
      },
      "outputs": [
        {
          "name": "stdout",
          "output_type": "stream",
          "text": [
            "Drive already mounted at /content/gdrive; to attempt to forcibly remount, call drive.mount(\"/content/gdrive\", force_remount=True).\n"
          ]
        }
      ],
      "source": [
        "from google.colab import drive\n",
        "drive.mount('/content/gdrive')"
      ]
    },
    {
      "cell_type": "code",
      "execution_count": 70,
      "metadata": {
        "colab": {
          "base_uri": "https://localhost:8080/"
        },
        "id": "7FS97zmQzWGz",
        "outputId": "ec6611d1-3c3b-42ea-f0ac-5693f3f9ac1f"
      },
      "outputs": [
        {
          "name": "stdout",
          "output_type": "stream",
          "text": [
            "Archive:  gdrive/My Drive/image_classification.zip\n",
            "replace image_classification/1111.jpg? [y]es, [n]o, [A]ll, [N]one, [r]ename: "
          ]
        }
      ],
      "source": [
        "!unzip gdrive/My\\ Drive/image_classification.zip "
      ]
    },
    {
      "cell_type": "code",
      "execution_count": null,
      "metadata": {
        "id": "LWDj7ps78aXn"
      },
      "outputs": [],
      "source": [
        "pip install fastai==1.0.61"
      ]
    },
    {
      "cell_type": "code",
      "execution_count": 72,
      "metadata": {
        "id": "UskVysy0zWMw"
      },
      "outputs": [],
      "source": [
        "import torch\n",
        "#from fastai.vision import *\n",
        "from fastai.vision import Path,get_image_files,open_image,get_transforms,ImageDataBunch,imagenet_stats,cnn_learner,models,ClassificationInterpretation\n",
        "import pandas as pd\n",
        "import numpy as np\n",
        "import warnings\n",
        "from fastai.metrics import error_rate\n",
        "from fastai.vision import Path\n",
        "\n",
        "warnings.filterwarnings('ignore')\n",
        "np.random.seed(2)\n",
        "\n",
        "from fastai import *\n",
        "from fastai.vision import *\n",
        "from fastai.core import *"
      ]
    },
    {
      "cell_type": "code",
      "execution_count": 73,
      "metadata": {
        "colab": {
          "base_uri": "https://localhost:8080/",
          "height": 35
        },
        "id": "wk7hJwbi8prw",
        "outputId": "3192ef24-c70e-4d26-f5b8-70b7fc501cb3"
      },
      "outputs": [
        {
          "data": {
            "application/vnd.google.colaboratory.intrinsic+json": {
              "type": "string"
            },
            "text/plain": [
              "'Tesla T4'"
            ]
          },
          "execution_count": 73,
          "metadata": {},
          "output_type": "execute_result"
        }
      ],
      "source": [
        "torch.cuda.get_device_name(0)"
      ]
    },
    {
      "cell_type": "code",
      "execution_count": 74,
      "metadata": {
        "colab": {
          "base_uri": "https://localhost:8080/"
        },
        "id": "ylTLa5700cqu",
        "outputId": "1add0498-4bda-46ab-d0b8-8837b7c27bf4"
      },
      "outputs": [
        {
          "data": {
            "text/plain": [
              "[PosixPath('image_classification/images'),\n",
              " PosixPath('image_classification/Training_labels'),\n",
              " PosixPath('image_classification/1111.jpg'),\n",
              " PosixPath('image_classification/3089.jpg'),\n",
              " PosixPath('image_classification/styles.csv'),\n",
              " PosixPath('image_classification/faashion_img.ipynb'),\n",
              " PosixPath('image_classification/1929.jpg'),\n",
              " PosixPath('image_classification/fashion_image_classify.ipynb'),\n",
              " PosixPath('image_classification/34258.jpg')]"
            ]
          },
          "execution_count": 74,
          "metadata": {},
          "output_type": "execute_result"
        }
      ],
      "source": [
        "base_path = Path('image_classification')\n",
        "images_path = base_path/'images'\n",
        "base_path.ls()"
      ]
    },
    {
      "cell_type": "code",
      "execution_count": 102,
      "metadata": {
        "colab": {
          "base_uri": "https://localhost:8080/"
        },
        "id": "FL5G-ap10czJ",
        "outputId": "ca008baa-1028-4410-92a1-7f3c48275ac7"
      },
      "outputs": [
        {
          "name": "stdout",
          "output_type": "stream",
          "text": [
            "<class 'pandas.core.frame.DataFrame'>\n",
            "RangeIndex: 29324 entries, 0 to 29323\n",
            "Data columns (total 2 columns):\n",
            " #   Column  Non-Null Count  Dtype \n",
            "---  ------  --------------  ----- \n",
            " 0   name    29324 non-null  object\n",
            " 1   label   29324 non-null  object\n",
            "dtypes: object(2)\n",
            "memory usage: 458.3+ KB\n"
          ]
        }
      ],
      "source": [
        "df_fine_tuned = pd.read_csv(base_path/'Training_labels/top_65_catagory.csv')\n",
        "df_fine_tuned.info()"
      ]
    },
    {
      "cell_type": "code",
      "execution_count": 76,
      "metadata": {
        "colab": {
          "base_uri": "https://localhost:8080/",
          "height": 206
        },
        "id": "upDR9_1Z0c6W",
        "outputId": "1984c8f4-334f-4d60-f927-509971b2c68b"
      },
      "outputs": [
        {
          "data": {
            "text/html": [
              "\n",
              "  <div id=\"df-cad2382d-706e-4932-8096-3563f22ddae1\">\n",
              "    <div class=\"colab-df-container\">\n",
              "      <div>\n",
              "<style scoped>\n",
              "    .dataframe tbody tr th:only-of-type {\n",
              "        vertical-align: middle;\n",
              "    }\n",
              "\n",
              "    .dataframe tbody tr th {\n",
              "        vertical-align: top;\n",
              "    }\n",
              "\n",
              "    .dataframe thead th {\n",
              "        text-align: right;\n",
              "    }\n",
              "</style>\n",
              "<table border=\"1\" class=\"dataframe\">\n",
              "  <thead>\n",
              "    <tr style=\"text-align: right;\">\n",
              "      <th></th>\n",
              "      <th>name</th>\n",
              "      <th>label</th>\n",
              "    </tr>\n",
              "  </thead>\n",
              "  <tbody>\n",
              "    <tr>\n",
              "      <th>0</th>\n",
              "      <td>39386.jpg</td>\n",
              "      <td>Jeans-Men-Bottomwear-Apparel</td>\n",
              "    </tr>\n",
              "    <tr>\n",
              "      <th>1</th>\n",
              "      <td>21379.jpg</td>\n",
              "      <td>Track Pants-Men-Bottomwear-Apparel</td>\n",
              "    </tr>\n",
              "    <tr>\n",
              "      <th>2</th>\n",
              "      <td>53759.jpg</td>\n",
              "      <td>Tshirts-Men-Topwear-Apparel</td>\n",
              "    </tr>\n",
              "    <tr>\n",
              "      <th>3</th>\n",
              "      <td>1855.jpg</td>\n",
              "      <td>Tshirts-Men-Topwear-Apparel</td>\n",
              "    </tr>\n",
              "    <tr>\n",
              "      <th>4</th>\n",
              "      <td>30805.jpg</td>\n",
              "      <td>Shirts-Men-Topwear-Apparel</td>\n",
              "    </tr>\n",
              "  </tbody>\n",
              "</table>\n",
              "</div>\n",
              "      <button class=\"colab-df-convert\" onclick=\"convertToInteractive('df-cad2382d-706e-4932-8096-3563f22ddae1')\"\n",
              "              title=\"Convert this dataframe to an interactive table.\"\n",
              "              style=\"display:none;\">\n",
              "        \n",
              "  <svg xmlns=\"http://www.w3.org/2000/svg\" height=\"24px\"viewBox=\"0 0 24 24\"\n",
              "       width=\"24px\">\n",
              "    <path d=\"M0 0h24v24H0V0z\" fill=\"none\"/>\n",
              "    <path d=\"M18.56 5.44l.94 2.06.94-2.06 2.06-.94-2.06-.94-.94-2.06-.94 2.06-2.06.94zm-11 1L8.5 8.5l.94-2.06 2.06-.94-2.06-.94L8.5 2.5l-.94 2.06-2.06.94zm10 10l.94 2.06.94-2.06 2.06-.94-2.06-.94-.94-2.06-.94 2.06-2.06.94z\"/><path d=\"M17.41 7.96l-1.37-1.37c-.4-.4-.92-.59-1.43-.59-.52 0-1.04.2-1.43.59L10.3 9.45l-7.72 7.72c-.78.78-.78 2.05 0 2.83L4 21.41c.39.39.9.59 1.41.59.51 0 1.02-.2 1.41-.59l7.78-7.78 2.81-2.81c.8-.78.8-2.07 0-2.86zM5.41 20L4 18.59l7.72-7.72 1.47 1.35L5.41 20z\"/>\n",
              "  </svg>\n",
              "      </button>\n",
              "      \n",
              "  <style>\n",
              "    .colab-df-container {\n",
              "      display:flex;\n",
              "      flex-wrap:wrap;\n",
              "      gap: 12px;\n",
              "    }\n",
              "\n",
              "    .colab-df-convert {\n",
              "      background-color: #E8F0FE;\n",
              "      border: none;\n",
              "      border-radius: 50%;\n",
              "      cursor: pointer;\n",
              "      display: none;\n",
              "      fill: #1967D2;\n",
              "      height: 32px;\n",
              "      padding: 0 0 0 0;\n",
              "      width: 32px;\n",
              "    }\n",
              "\n",
              "    .colab-df-convert:hover {\n",
              "      background-color: #E2EBFA;\n",
              "      box-shadow: 0px 1px 2px rgba(60, 64, 67, 0.3), 0px 1px 3px 1px rgba(60, 64, 67, 0.15);\n",
              "      fill: #174EA6;\n",
              "    }\n",
              "\n",
              "    [theme=dark] .colab-df-convert {\n",
              "      background-color: #3B4455;\n",
              "      fill: #D2E3FC;\n",
              "    }\n",
              "\n",
              "    [theme=dark] .colab-df-convert:hover {\n",
              "      background-color: #434B5C;\n",
              "      box-shadow: 0px 1px 3px 1px rgba(0, 0, 0, 0.15);\n",
              "      filter: drop-shadow(0px 1px 2px rgba(0, 0, 0, 0.3));\n",
              "      fill: #FFFFFF;\n",
              "    }\n",
              "  </style>\n",
              "\n",
              "      <script>\n",
              "        const buttonEl =\n",
              "          document.querySelector('#df-cad2382d-706e-4932-8096-3563f22ddae1 button.colab-df-convert');\n",
              "        buttonEl.style.display =\n",
              "          google.colab.kernel.accessAllowed ? 'block' : 'none';\n",
              "\n",
              "        async function convertToInteractive(key) {\n",
              "          const element = document.querySelector('#df-cad2382d-706e-4932-8096-3563f22ddae1');\n",
              "          const dataTable =\n",
              "            await google.colab.kernel.invokeFunction('convertToInteractive',\n",
              "                                                     [key], {});\n",
              "          if (!dataTable) return;\n",
              "\n",
              "          const docLinkHtml = 'Like what you see? Visit the ' +\n",
              "            '<a target=\"_blank\" href=https://colab.research.google.com/notebooks/data_table.ipynb>data table notebook</a>'\n",
              "            + ' to learn more about interactive tables.';\n",
              "          element.innerHTML = '';\n",
              "          dataTable['output_type'] = 'display_data';\n",
              "          await google.colab.output.renderOutput(dataTable, element);\n",
              "          const docLink = document.createElement('div');\n",
              "          docLink.innerHTML = docLinkHtml;\n",
              "          element.appendChild(docLink);\n",
              "        }\n",
              "      </script>\n",
              "    </div>\n",
              "  </div>\n",
              "  "
            ],
            "text/plain": [
              "        name                               label\n",
              "0  39386.jpg        Jeans-Men-Bottomwear-Apparel\n",
              "1  21379.jpg  Track Pants-Men-Bottomwear-Apparel\n",
              "2  53759.jpg         Tshirts-Men-Topwear-Apparel\n",
              "3   1855.jpg         Tshirts-Men-Topwear-Apparel\n",
              "4  30805.jpg          Shirts-Men-Topwear-Apparel"
            ]
          },
          "execution_count": 76,
          "metadata": {},
          "output_type": "execute_result"
        }
      ],
      "source": [
        "df_fine_tuned.head()"
      ]
    },
    {
      "cell_type": "code",
      "execution_count": 77,
      "metadata": {
        "colab": {
          "base_uri": "https://localhost:8080/"
        },
        "id": "Ab2XwIup4yST",
        "outputId": "8afef63e-cbe5-4208-c364-5b8b7de09cf8"
      },
      "outputs": [
        {
          "data": {
            "text/plain": [
              "[]"
            ]
          },
          "execution_count": 77,
          "metadata": {},
          "output_type": "execute_result"
        }
      ],
      "source": [
        "#Printing images that don't exist from the dataframe\n",
        "invalid_img = []\n",
        "for idx,value in enumerate(df_fine_tuned.name):\n",
        "    path = images_path/str(value)\n",
        "    if not path.is_file():\n",
        "        invalid_img.append(idx)\n",
        "        print(idx,path)\n",
        "invalid_img"
      ]
    },
    {
      "cell_type": "code",
      "execution_count": 78,
      "metadata": {
        "colab": {
          "base_uri": "https://localhost:8080/"
        },
        "id": "fpvrNGqv2TGq",
        "outputId": "b5273c3c-4e94-42de-c4b0-44bb39f09bc2"
      },
      "outputs": [
        {
          "data": {
            "text/plain": [
              "65"
            ]
          },
          "execution_count": 78,
          "metadata": {},
          "output_type": "execute_result"
        }
      ],
      "source": [
        "#Printing distinct catagories\n",
        "len(df_fine_tuned.label.unique())"
      ]
    },
    {
      "cell_type": "code",
      "execution_count": 79,
      "metadata": {
        "colab": {
          "base_uri": "https://localhost:8080/"
        },
        "id": "rxCevT1D2TLw",
        "outputId": "593add60-ccf0-4635-9ca8-7f60e6a1955a"
      },
      "outputs": [
        {
          "data": {
            "text/plain": [
              "label\n",
              "Tshirts-Men-Topwear-Apparel                         4223\n",
              "Shirts-Men-Topwear-Apparel                          2289\n",
              "Men-Shoes-Footwear                                  2286\n",
              "Kurtas-Women-Topwear-Apparel                        1586\n",
              "Sports Shoes-Footwear                               1579\n",
              "                                                    ... \n",
              "Shorts-Boys-Bottomwear-Apparel                        46\n",
              "Night suits-Men-Loungewear and Nightwear-Apparel      43\n",
              "Laptop Bag-Unisex-Bags-Accessories                    43\n",
              "Backpacks-Men-Bags-Accessories                        42\n",
              "Jackets-Women-Topwear-Apparel                         38\n",
              "Name: name, Length: 65, dtype: int64"
            ]
          },
          "execution_count": 79,
          "metadata": {},
          "output_type": "execute_result"
        }
      ],
      "source": [
        "df_fine_tuned.groupby('label')['name'].count().nlargest(100)"
      ]
    },
    {
      "cell_type": "code",
      "execution_count": 80,
      "metadata": {
        "colab": {
          "base_uri": "https://localhost:8080/",
          "height": 114
        },
        "id": "kJRf_2ph2Wyz",
        "outputId": "5e4b4c67-95ba-4b2a-f7cb-88d6c9d1ceb4"
      },
      "outputs": [
        {
          "name": "stdout",
          "output_type": "stream",
          "text": [
            "Shirts-Men-Topwear-Apparel\n"
          ]
        },
        {
          "data": {
            "image/jpeg": "[encoded data removed]",
            "image/png": "[encoded data removed]",
            "text/plain": [
              "Image (3, 80, 60)"
            ]
          },
          "execution_count": 80,
          "metadata": {},
          "output_type": "execute_result"
        }
      ],
      "source": [
        "print(df_fine_tuned['label'][4])\n",
        "open_image(base_path/'images'/df_fine_tuned['name'][4])"
      ]
    },
    {
      "cell_type": "code",
      "execution_count": 81,
      "metadata": {
        "colab": {
          "base_uri": "https://localhost:8080/",
          "height": 424
        },
        "id": "ObkuUvLk2W6V",
        "outputId": "f6f7e046-eae3-446f-f67e-298b5d3c5784"
      },
      "outputs": [
        {
          "data": {
            "text/html": [
              "\n",
              "  <div id=\"df-e058ba8d-e7d9-4557-9246-288c12784af7\">\n",
              "    <div class=\"colab-df-container\">\n",
              "      <div>\n",
              "<style scoped>\n",
              "    .dataframe tbody tr th:only-of-type {\n",
              "        vertical-align: middle;\n",
              "    }\n",
              "\n",
              "    .dataframe tbody tr th {\n",
              "        vertical-align: top;\n",
              "    }\n",
              "\n",
              "    .dataframe thead th {\n",
              "        text-align: right;\n",
              "    }\n",
              "</style>\n",
              "<table border=\"1\" class=\"dataframe\">\n",
              "  <thead>\n",
              "    <tr style=\"text-align: right;\">\n",
              "      <th></th>\n",
              "      <th>name</th>\n",
              "      <th>label</th>\n",
              "    </tr>\n",
              "  </thead>\n",
              "  <tbody>\n",
              "    <tr>\n",
              "      <th>0</th>\n",
              "      <td>39386.jpg</td>\n",
              "      <td>Jeans-Men-Bottomwear-Apparel</td>\n",
              "    </tr>\n",
              "    <tr>\n",
              "      <th>1</th>\n",
              "      <td>21379.jpg</td>\n",
              "      <td>Track Pants-Men-Bottomwear-Apparel</td>\n",
              "    </tr>\n",
              "    <tr>\n",
              "      <th>2</th>\n",
              "      <td>53759.jpg</td>\n",
              "      <td>Tshirts-Men-Topwear-Apparel</td>\n",
              "    </tr>\n",
              "    <tr>\n",
              "      <th>3</th>\n",
              "      <td>1855.jpg</td>\n",
              "      <td>Tshirts-Men-Topwear-Apparel</td>\n",
              "    </tr>\n",
              "    <tr>\n",
              "      <th>4</th>\n",
              "      <td>30805.jpg</td>\n",
              "      <td>Shirts-Men-Topwear-Apparel</td>\n",
              "    </tr>\n",
              "    <tr>\n",
              "      <th>...</th>\n",
              "      <td>...</td>\n",
              "      <td>...</td>\n",
              "    </tr>\n",
              "    <tr>\n",
              "      <th>29319</th>\n",
              "      <td>13496.jpg</td>\n",
              "      <td>Tshirts-Men-Topwear-Apparel</td>\n",
              "    </tr>\n",
              "    <tr>\n",
              "      <th>29320</th>\n",
              "      <td>12544.jpg</td>\n",
              "      <td>Tshirts-Women-Topwear-Apparel</td>\n",
              "    </tr>\n",
              "    <tr>\n",
              "      <th>29321</th>\n",
              "      <td>42234.jpg</td>\n",
              "      <td>Shirts-Women-Topwear-Apparel</td>\n",
              "    </tr>\n",
              "    <tr>\n",
              "      <th>29322</th>\n",
              "      <td>17036.jpg</td>\n",
              "      <td>Men-Shoes-Footwear</td>\n",
              "    </tr>\n",
              "    <tr>\n",
              "      <th>29323</th>\n",
              "      <td>51623.jpg</td>\n",
              "      <td>Watches-Women-Watches-Accessories</td>\n",
              "    </tr>\n",
              "  </tbody>\n",
              "</table>\n",
              "<p>29324 rows × 2 columns</p>\n",
              "</div>\n",
              "      <button class=\"colab-df-convert\" onclick=\"convertToInteractive('df-e058ba8d-e7d9-4557-9246-288c12784af7')\"\n",
              "              title=\"Convert this dataframe to an interactive table.\"\n",
              "              style=\"display:none;\">\n",
              "        \n",
              "  <svg xmlns=\"http://www.w3.org/2000/svg\" height=\"24px\"viewBox=\"0 0 24 24\"\n",
              "       width=\"24px\">\n",
              "    <path d=\"M0 0h24v24H0V0z\" fill=\"none\"/>\n",
              "    <path d=\"M18.56 5.44l.94 2.06.94-2.06 2.06-.94-2.06-.94-.94-2.06-.94 2.06-2.06.94zm-11 1L8.5 8.5l.94-2.06 2.06-.94-2.06-.94L8.5 2.5l-.94 2.06-2.06.94zm10 10l.94 2.06.94-2.06 2.06-.94-2.06-.94-.94-2.06-.94 2.06-2.06.94z\"/><path d=\"M17.41 7.96l-1.37-1.37c-.4-.4-.92-.59-1.43-.59-.52 0-1.04.2-1.43.59L10.3 9.45l-7.72 7.72c-.78.78-.78 2.05 0 2.83L4 21.41c.39.39.9.59 1.41.59.51 0 1.02-.2 1.41-.59l7.78-7.78 2.81-2.81c.8-.78.8-2.07 0-2.86zM5.41 20L4 18.59l7.72-7.72 1.47 1.35L5.41 20z\"/>\n",
              "  </svg>\n",
              "      </button>\n",
              "      \n",
              "  <style>\n",
              "    .colab-df-container {\n",
              "      display:flex;\n",
              "      flex-wrap:wrap;\n",
              "      gap: 12px;\n",
              "    }\n",
              "\n",
              "    .colab-df-convert {\n",
              "      background-color: #E8F0FE;\n",
              "      border: none;\n",
              "      border-radius: 50%;\n",
              "      cursor: pointer;\n",
              "      display: none;\n",
              "      fill: #1967D2;\n",
              "      height: 32px;\n",
              "      padding: 0 0 0 0;\n",
              "      width: 32px;\n",
              "    }\n",
              "\n",
              "    .colab-df-convert:hover {\n",
              "      background-color: #E2EBFA;\n",
              "      box-shadow: 0px 1px 2px rgba(60, 64, 67, 0.3), 0px 1px 3px 1px rgba(60, 64, 67, 0.15);\n",
              "      fill: #174EA6;\n",
              "    }\n",
              "\n",
              "    [theme=dark] .colab-df-convert {\n",
              "      background-color: #3B4455;\n",
              "      fill: #D2E3FC;\n",
              "    }\n",
              "\n",
              "    [theme=dark] .colab-df-convert:hover {\n",
              "      background-color: #434B5C;\n",
              "      box-shadow: 0px 1px 3px 1px rgba(0, 0, 0, 0.15);\n",
              "      filter: drop-shadow(0px 1px 2px rgba(0, 0, 0, 0.3));\n",
              "      fill: #FFFFFF;\n",
              "    }\n",
              "  </style>\n",
              "\n",
              "      <script>\n",
              "        const buttonEl =\n",
              "          document.querySelector('#df-e058ba8d-e7d9-4557-9246-288c12784af7 button.colab-df-convert');\n",
              "        buttonEl.style.display =\n",
              "          google.colab.kernel.accessAllowed ? 'block' : 'none';\n",
              "\n",
              "        async function convertToInteractive(key) {\n",
              "          const element = document.querySelector('#df-e058ba8d-e7d9-4557-9246-288c12784af7');\n",
              "          const dataTable =\n",
              "            await google.colab.kernel.invokeFunction('convertToInteractive',\n",
              "                                                     [key], {});\n",
              "          if (!dataTable) return;\n",
              "\n",
              "          const docLinkHtml = 'Like what you see? Visit the ' +\n",
              "            '<a target=\"_blank\" href=https://colab.research.google.com/notebooks/data_table.ipynb>data table notebook</a>'\n",
              "            + ' to learn more about interactive tables.';\n",
              "          element.innerHTML = '';\n",
              "          dataTable['output_type'] = 'display_data';\n",
              "          await google.colab.output.renderOutput(dataTable, element);\n",
              "          const docLink = document.createElement('div');\n",
              "          docLink.innerHTML = docLinkHtml;\n",
              "          element.appendChild(docLink);\n",
              "        }\n",
              "      </script>\n",
              "    </div>\n",
              "  </div>\n",
              "  "
            ],
            "text/plain": [
              "            name                               label\n",
              "0      39386.jpg        Jeans-Men-Bottomwear-Apparel\n",
              "1      21379.jpg  Track Pants-Men-Bottomwear-Apparel\n",
              "2      53759.jpg         Tshirts-Men-Topwear-Apparel\n",
              "3       1855.jpg         Tshirts-Men-Topwear-Apparel\n",
              "4      30805.jpg          Shirts-Men-Topwear-Apparel\n",
              "...          ...                                 ...\n",
              "29319  13496.jpg         Tshirts-Men-Topwear-Apparel\n",
              "29320  12544.jpg       Tshirts-Women-Topwear-Apparel\n",
              "29321  42234.jpg        Shirts-Women-Topwear-Apparel\n",
              "29322  17036.jpg                  Men-Shoes-Footwear\n",
              "29323  51623.jpg   Watches-Women-Watches-Accessories\n",
              "\n",
              "[29324 rows x 2 columns]"
            ]
          },
          "execution_count": 81,
          "metadata": {},
          "output_type": "execute_result"
        }
      ],
      "source": [
        "df_fine_tuned"
      ]
    },
    {
      "cell_type": "code",
      "execution_count": 82,
      "metadata": {
        "id": "yv8Fm2Vj2TPd"
      },
      "outputs": [],
      "source": [
        "data_fine_tuned = ImageDataBunch.from_df(images_path, df_fine_tuned, ds_tfms=False,size=60, bs=64).normalize(imagenet_stats)"
      ]
    },
    {
      "cell_type": "code",
      "execution_count": 83,
      "metadata": {
        "id": "XWMttfJK4_EG"
      },
      "outputs": [],
      "source": [
        "learn = create_cnn(data_fine_tuned, models.resnet34, metrics=accuracy)"
      ]
    },
    {
      "cell_type": "code",
      "execution_count": 84,
      "metadata": {
        "colab": {
          "base_uri": "https://localhost:8080/",
          "height": 175
        },
        "id": "WOjbCT9I4_H7",
        "outputId": "19efc5c0-8473-43a2-cd49-17f9a26b2bbc"
      },
      "outputs": [
        {
          "data": {
            "text/html": [
              "\n",
              "<style>\n",
              "    /* Turns off some styling */\n",
              "    progress {\n",
              "        /* gets rid of default border in Firefox and Opera. */\n",
              "        border: none;\n",
              "        /* Needs to be in here for Safari polyfill so background images work as expected. */\n",
              "        background-size: auto;\n",
              "    }\n",
              "    progress:not([value]), progress:not([value])::-webkit-progress-bar {\n",
              "        background: repeating-linear-gradient(45deg, #7e7e7e, #7e7e7e 10px, #5c5c5c 10px, #5c5c5c 20px);\n",
              "    }\n",
              "    .progress-bar-interrupted, .progress-bar-interrupted::-webkit-progress-bar {\n",
              "        background: #F44336;\n",
              "    }\n",
              "</style>\n"
            ],
            "text/plain": [
              "<IPython.core.display.HTML object>"
            ]
          },
          "metadata": {},
          "output_type": "display_data"
        },
        {
          "data": {
            "text/html": [
              "<table border=\"1\" class=\"dataframe\">\n",
              "  <thead>\n",
              "    <tr style=\"text-align: left;\">\n",
              "      <th>epoch</th>\n",
              "      <th>train_loss</th>\n",
              "      <th>valid_loss</th>\n",
              "      <th>accuracy</th>\n",
              "      <th>time</th>\n",
              "    </tr>\n",
              "  </thead>\n",
              "  <tbody>\n",
              "    <tr>\n",
              "      <td>0</td>\n",
              "      <td>1.577173</td>\n",
              "      <td>1.218748</td>\n",
              "      <td>0.658595</td>\n",
              "      <td>00:32</td>\n",
              "    </tr>\n",
              "    <tr>\n",
              "      <td>1</td>\n",
              "      <td>1.108074</td>\n",
              "      <td>0.860262</td>\n",
              "      <td>0.730389</td>\n",
              "      <td>00:31</td>\n",
              "    </tr>\n",
              "    <tr>\n",
              "      <td>2</td>\n",
              "      <td>0.852773</td>\n",
              "      <td>0.754682</td>\n",
              "      <td>0.761085</td>\n",
              "      <td>00:23</td>\n",
              "    </tr>\n",
              "    <tr>\n",
              "      <td>3</td>\n",
              "      <td>0.687321</td>\n",
              "      <td>0.706703</td>\n",
              "      <td>0.769611</td>\n",
              "      <td>00:23</td>\n",
              "    </tr>\n",
              "  </tbody>\n",
              "</table>"
            ],
            "text/plain": [
              "<IPython.core.display.HTML object>"
            ]
          },
          "metadata": {},
          "output_type": "display_data"
        }
      ],
      "source": [
        "learn.fit_one_cycle(4)"
      ]
    },
    {
      "cell_type": "code",
      "execution_count": 85,
      "metadata": {
        "colab": {
          "base_uri": "https://localhost:8080/",
          "height": 375
        },
        "id": "usvf6WO24_LW",
        "outputId": "be6b4ffa-200e-44e8-ea24-f5fd25f6206f"
      },
      "outputs": [
        {
          "data": {
            "text/html": [
              "\n",
              "<style>\n",
              "    /* Turns off some styling */\n",
              "    progress {\n",
              "        /* gets rid of default border in Firefox and Opera. */\n",
              "        border: none;\n",
              "        /* Needs to be in here for Safari polyfill so background images work as expected. */\n",
              "        background-size: auto;\n",
              "    }\n",
              "    progress:not([value]), progress:not([value])::-webkit-progress-bar {\n",
              "        background: repeating-linear-gradient(45deg, #7e7e7e, #7e7e7e 10px, #5c5c5c 10px, #5c5c5c 20px);\n",
              "    }\n",
              "    .progress-bar-interrupted, .progress-bar-interrupted::-webkit-progress-bar {\n",
              "        background: #F44336;\n",
              "    }\n",
              "</style>\n"
            ],
            "text/plain": [
              "<IPython.core.display.HTML object>"
            ]
          },
          "metadata": {},
          "output_type": "display_data"
        },
        {
          "data": {
            "text/html": [
              "\n",
              "    <div>\n",
              "      <progress value='0' class='' max='1' style='width:300px; height:20px; vertical-align: middle;'></progress>\n",
              "      0.00% [0/1 00:00&lt;?]\n",
              "    </div>\n",
              "    \n",
              "<table border=\"1\" class=\"dataframe\">\n",
              "  <thead>\n",
              "    <tr style=\"text-align: left;\">\n",
              "      <th>epoch</th>\n",
              "      <th>train_loss</th>\n",
              "      <th>valid_loss</th>\n",
              "      <th>accuracy</th>\n",
              "      <th>time</th>\n",
              "    </tr>\n",
              "  </thead>\n",
              "  <tbody>\n",
              "  </tbody>\n",
              "</table><p>\n",
              "\n",
              "    <div>\n",
              "      <progress value='83' class='' max='366' style='width:300px; height:20px; vertical-align: middle;'></progress>\n",
              "      22.68% [83/366 00:04&lt;00:16 1.7471]\n",
              "    </div>\n",
              "    "
            ],
            "text/plain": [
              "<IPython.core.display.HTML object>"
            ]
          },
          "metadata": {},
          "output_type": "display_data"
        },
        {
          "name": "stdout",
          "output_type": "stream",
          "text": [
            "LR Finder is complete, type {learner_name}.recorder.plot() to see the graph.\n"
          ]
        },
        {
          "data": {
            "image/png": "[encoded data removed]",
            "text/plain": [
              "<Figure size 432x288 with 1 Axes>"
            ]
          },
          "metadata": {
            "needs_background": "light"
          },
          "output_type": "display_data"
        }
      ],
      "source": [
        "learn.lr_find()\n",
        "learn.recorder.plot()"
      ]
    },
    {
      "cell_type": "code",
      "execution_count": 86,
      "metadata": {
        "id": "x-VclG1hzWS5"
      },
      "outputs": [],
      "source": [
        "learn.unfreeze()"
      ]
    },
    {
      "cell_type": "code",
      "execution_count": 87,
      "metadata": {
        "colab": {
          "base_uri": "https://localhost:8080/",
          "height": 81
        },
        "id": "ESLNitgW6zH6",
        "outputId": "feea9a55-27de-40c9-9aa1-59c284f7de0e"
      },
      "outputs": [
        {
          "data": {
            "text/html": [
              "\n",
              "<style>\n",
              "    /* Turns off some styling */\n",
              "    progress {\n",
              "        /* gets rid of default border in Firefox and Opera. */\n",
              "        border: none;\n",
              "        /* Needs to be in here for Safari polyfill so background images work as expected. */\n",
              "        background-size: auto;\n",
              "    }\n",
              "    progress:not([value]), progress:not([value])::-webkit-progress-bar {\n",
              "        background: repeating-linear-gradient(45deg, #7e7e7e, #7e7e7e 10px, #5c5c5c 10px, #5c5c5c 20px);\n",
              "    }\n",
              "    .progress-bar-interrupted, .progress-bar-interrupted::-webkit-progress-bar {\n",
              "        background: #F44336;\n",
              "    }\n",
              "</style>\n"
            ],
            "text/plain": [
              "<IPython.core.display.HTML object>"
            ]
          },
          "metadata": {},
          "output_type": "display_data"
        },
        {
          "data": {
            "text/html": [
              "<table border=\"1\" class=\"dataframe\">\n",
              "  <thead>\n",
              "    <tr style=\"text-align: left;\">\n",
              "      <th>epoch</th>\n",
              "      <th>train_loss</th>\n",
              "      <th>valid_loss</th>\n",
              "      <th>accuracy</th>\n",
              "      <th>time</th>\n",
              "    </tr>\n",
              "  </thead>\n",
              "  <tbody>\n",
              "    <tr>\n",
              "      <td>0</td>\n",
              "      <td>0.637641</td>\n",
              "      <td>0.603433</td>\n",
              "      <td>0.802183</td>\n",
              "      <td>00:35</td>\n",
              "    </tr>\n",
              "  </tbody>\n",
              "</table>"
            ],
            "text/plain": [
              "<IPython.core.display.HTML object>"
            ]
          },
          "metadata": {},
          "output_type": "display_data"
        }
      ],
      "source": [
        "learn.fit_one_cycle(1, max_lr=slice(1e-06,1e-03))"
      ]
    },
    {
      "cell_type": "code",
      "execution_count": 88,
      "metadata": {
        "colab": {
          "base_uri": "https://localhost:8080/",
          "height": 1000
        },
        "id": "NpWobomN65Ei",
        "outputId": "a1498175-d4ea-4a48-aa01-08f7bdda8649"
      },
      "outputs": [
        {
          "data": {
            "text/html": [
              "\n",
              "<style>\n",
              "    /* Turns off some styling */\n",
              "    progress {\n",
              "        /* gets rid of default border in Firefox and Opera. */\n",
              "        border: none;\n",
              "        /* Needs to be in here for Safari polyfill so background images work as expected. */\n",
              "        background-size: auto;\n",
              "    }\n",
              "    progress:not([value]), progress:not([value])::-webkit-progress-bar {\n",
              "        background: repeating-linear-gradient(45deg, #7e7e7e, #7e7e7e 10px, #5c5c5c 10px, #5c5c5c 20px);\n",
              "    }\n",
              "    .progress-bar-interrupted, .progress-bar-interrupted::-webkit-progress-bar {\n",
              "        background: #F44336;\n",
              "    }\n",
              "</style>\n"
            ],
            "text/plain": [
              "<IPython.core.display.HTML object>"
            ]
          },
          "metadata": {},
          "output_type": "display_data"
        },
        {
          "data": {
            "text/html": [],
            "text/plain": [
              "<IPython.core.display.HTML object>"
            ]
          },
          "metadata": {},
          "output_type": "display_data"
        },
        {
          "data": {
            "text/plain": [
              "[('Sports Shoes-Footwear', 'Men-Shoes-Footwear', 58),\n",
              " ('Tshirts-Women-Topwear-Apparel', 'Shirts-Women-Topwear-Apparel', 48),\n",
              " ('Watches-Women-Watches-Accessories', 'Watches-Men-Watches-Accessories', 37),\n",
              " ('Men-Shoes-Footwear', 'Sports Shoes-Footwear', 36),\n",
              " ('Shirts-Women-Topwear-Apparel', 'Kurtas-Women-Topwear-Apparel', 36),\n",
              " ('Shirts-Women-Topwear-Apparel', 'Tshirts-Women-Topwear-Apparel', 34),\n",
              " ('Casual Shoes-Unisex-Shoes-Footwear', 'Men-Shoes-Footwear', 27),\n",
              " ('Kurtas-Women-Topwear-Apparel', 'Shirts-Women-Topwear-Apparel', 24),\n",
              " ('Watches-Men-Watches-Accessories', 'Watches-Women-Watches-Accessories', 24),\n",
              " ('Kurtis-Women-Topwear-Apparel', 'Kurtas-Women-Topwear-Apparel', 23),\n",
              " ('Tshirts-Men-Topwear-Apparel', 'Shirts-Men-Topwear-Apparel', 22),\n",
              " ('Casual Shoes-Women-Shoes-Footwear', 'Men-Shoes-Footwear', 18),\n",
              " ('Shirts-Women-Topwear-Apparel', 'Tshirts-Men-Topwear-Apparel', 18),\n",
              " ('Kurtis-Women-Topwear-Apparel', 'Shirts-Women-Topwear-Apparel', 16),\n",
              " ('Watches-Unisex-Watches-Accessories', 'Watches-Men-Watches-Accessories', 15),\n",
              " ('Sandals-Men-Sandal-Footwear', 'Flip Flops-Men-Flip Flops-Footwear', 14),\n",
              " ('Sunglasses-Men-Eyewear-Accessories',\n",
              "  'Sunglasses-Women-Eyewear-Accessories',\n",
              "  14),\n",
              " ('Sunglasses-Unisex-Eyewear-Accessories',\n",
              "  'Sunglasses-Men-Eyewear-Accessories',\n",
              "  14),\n",
              " ('Casual Shoes-Women-Shoes-Footwear', 'Women-Shoes-Footwear', 13),\n",
              " ('Shirts-Women-Topwear-Apparel', 'Dresses-Girls-Dress-Apparel', 13),\n",
              " ('Flip Flops-Unisex-Flip Flops-Footwear',\n",
              "  'Flip Flops-Men-Flip Flops-Footwear',\n",
              "  12),\n",
              " ('Sandals-Men-Sandal-Footwear', 'Men-Shoes-Footwear', 11),\n",
              " ('Sweaters-Men-Topwear-Apparel', 'Tshirts-Men-Topwear-Apparel', 11),\n",
              " ('Sweaters-Women-Topwear-Apparel', 'Shirts-Women-Topwear-Apparel', 11),\n",
              " ('Tshirts-Women-Topwear-Apparel', 'Tshirts-Men-Topwear-Apparel', 11),\n",
              " ('Caps-Men-Headwear-Accessories', 'Caps-Unisex-Headwear-Accessories', 10),\n",
              " ('Casual Shoes-Women-Shoes-Footwear', 'Sports Shoes-Footwear', 10),\n",
              " ('Handbags-Unisex-Bags-Accessories', 'Handbags-Women-Bags-Accessories', 10),\n",
              " ('Nightdress-Women-Loungewear and Nightwear-Apparel',\n",
              "  'Kurtas-Women-Topwear-Apparel',\n",
              "  10),\n",
              " ('Tshirts-Men-Topwear-Apparel', 'Tshirts-Boys-Topwear-Apparel', 9),\n",
              " ('Wallets-Women-Wallets-Accessories', 'Clutches-Women-Bags-Accessories', 9),\n",
              " ('Women-Shoes-Footwear', 'Casual Shoes-Women-Shoes-Footwear', 9),\n",
              " ('Women-Shoes-Footwear', 'Sandals-Men-Sandal-Footwear', 9),\n",
              " ('Flip Flops-Women-Flip Flops-Footwear',\n",
              "  'Flip Flops-Men-Flip Flops-Footwear',\n",
              "  8),\n",
              " ('Flip Flops-Women-Flip Flops-Footwear', 'Women-Shoes-Footwear', 8),\n",
              " ('Jackets-Men-Topwear-Apparel', 'Shirts-Men-Topwear-Apparel', 8),\n",
              " ('Shirts-Men-Topwear-Apparel', 'Tshirts-Men-Topwear-Apparel', 8),\n",
              " ('Sunglasses-Women-Eyewear-Accessories',\n",
              "  'Sunglasses-Men-Eyewear-Accessories',\n",
              "  8),\n",
              " ('Track Pants-Men-Bottomwear-Apparel',\n",
              "  'Track Pants-Women-Bottomwear-Apparel',\n",
              "  8),\n",
              " ('Clutches-Women-Bags-Accessories', 'Wallets-Women-Wallets-Accessories', 7),\n",
              " ('Laptop Bag-Unisex-Bags-Accessories', 'Handbags-Women-Bags-Accessories', 7),\n",
              " ('Sweaters-Men-Topwear-Apparel', 'Sweatshirts-Men-Topwear-Apparel', 7),\n",
              " ('Sweatshirts-Men-Topwear-Apparel', 'Tshirts-Men-Topwear-Apparel', 7),\n",
              " ('Sweatshirts-Women-Topwear-Apparel', 'Shirts-Women-Topwear-Apparel', 7),\n",
              " ('Flip Flops-Men-Flip Flops-Footwear', 'Sandals-Men-Sandal-Footwear', 6),\n",
              " ('Shirts-Women-Topwear-Apparel', 'Shirts-Men-Topwear-Apparel', 6),\n",
              " ('Sunglasses-Men-Eyewear-Accessories',\n",
              "  'Sunglasses-Unisex-Eyewear-Accessories',\n",
              "  6),\n",
              " ('Tshirts-Boys-Topwear-Apparel', 'Tshirts-Men-Topwear-Apparel', 6),\n",
              " ('Backpacks-Men-Bags-Accessories', 'Backpacks-Unisex-Bags-Accessories', 5),\n",
              " ('Belts-Women-Belts-Accessories', 'Belts-Men-Belts-Accessories', 5),\n",
              " ('Caps-Unisex-Headwear-Accessories', 'Caps-Men-Headwear-Accessories', 5),\n",
              " ('Dresses-Girls-Dress-Apparel', 'Tshirts-Boys-Topwear-Apparel', 5),\n",
              " ('Handbags-Women-Bags-Accessories', 'Wallets-Women-Wallets-Accessories', 5),\n",
              " ('Jackets-Women-Topwear-Apparel', 'Shirts-Women-Topwear-Apparel', 5),\n",
              " ('Jeans-Women-Bottomwear-Apparel', 'Jeans-Men-Bottomwear-Apparel', 5),\n",
              " ('Kurtas-Men-Topwear-Apparel', 'Shirts-Men-Topwear-Apparel', 5),\n",
              " ('Trousers-Men-Bottomwear-Apparel', 'Track Pants-Men-Bottomwear-Apparel', 5),\n",
              " ('Backpacks-Unisex-Bags-Accessories', 'Handbags-Women-Bags-Accessories', 4),\n",
              " ('Belts-Men-Belts-Accessories', 'Belts-Women-Belts-Accessories', 4),\n",
              " ('Dresses-Girls-Dress-Apparel', 'Handbags-Women-Bags-Accessories', 4),\n",
              " ('Handbags-Women-Bags-Accessories', 'Clutches-Women-Bags-Accessories', 4),\n",
              " ('Jackets-Men-Topwear-Apparel', 'Sweatshirts-Men-Topwear-Apparel', 4),\n",
              " ('Jeans-Men-Bottomwear-Apparel', 'Trousers-Men-Bottomwear-Apparel', 4),\n",
              " ('Sandals-Unisex-Sandal-Footwear',\n",
              "  'Flip Flops-Unisex-Flip Flops-Footwear',\n",
              "  4),\n",
              " ('Sandals-Unisex-Sandal-Footwear', 'Sandals-Men-Sandal-Footwear', 4),\n",
              " ('Shorts-Boys-Bottomwear-Apparel', 'Shorts-Men-Bottomwear-Apparel', 4),\n",
              " ('Shorts-Women-Bottomwear-Apparel', 'Shorts-Men-Bottomwear-Apparel', 4),\n",
              " ('Sports Shoes-Footwear', 'Casual Shoes-Women-Shoes-Footwear', 4),\n",
              " ('Sunglasses-Unisex-Eyewear-Accessories',\n",
              "  'Sunglasses-Women-Eyewear-Accessories',\n",
              "  4),\n",
              " ('Track Pants-Men-Bottomwear-Apparel', 'Trousers-Men-Bottomwear-Apparel', 4),\n",
              " ('Trousers-Men-Bottomwear-Apparel', 'Jeans-Men-Bottomwear-Apparel', 4),\n",
              " ('Trousers-Women-Bottomwear-Apparel', 'Trousers-Men-Bottomwear-Apparel', 4),\n",
              " ('Tshirts-Boys-Topwear-Apparel', 'Dresses-Girls-Dress-Apparel', 4),\n",
              " ('Tshirts-Men-Topwear-Apparel', 'Shirts-Women-Topwear-Apparel', 4),\n",
              " ('Tshirts-Men-Topwear-Apparel', 'Sweaters-Men-Topwear-Apparel', 4),\n",
              " ('Tshirts-Men-Topwear-Apparel', 'Sweatshirts-Men-Topwear-Apparel', 4),\n",
              " ('Tshirts-Women-Topwear-Apparel', 'Dresses-Girls-Dress-Apparel', 4),\n",
              " ('Tshirts-Women-Topwear-Apparel', 'Kurtas-Women-Topwear-Apparel', 4),\n",
              " ('Watches-Unisex-Watches-Accessories',\n",
              "  'Watches-Women-Watches-Accessories',\n",
              "  4),\n",
              " ('Women-Shoes-Footwear', 'Men-Shoes-Footwear', 4),\n",
              " ('Capris-Women-Bottomwear-Apparel', 'Shorts-Men-Bottomwear-Apparel', 3),\n",
              " ('Capris-Women-Bottomwear-Apparel', 'Track Pants-Men-Bottomwear-Apparel', 3),\n",
              " ('Casual Shoes-Women-Shoes-Footwear', 'Sandals-Men-Sandal-Footwear', 3),\n",
              " ('Clutches-Women-Bags-Accessories', 'Handbags-Women-Bags-Accessories', 3),\n",
              " ('Flip Flops-Unisex-Flip Flops-Footwear',\n",
              "  'Flip Flops-Women-Flip Flops-Footwear',\n",
              "  3),\n",
              " ('Jackets-Men-Topwear-Apparel', 'Tshirts-Men-Topwear-Apparel', 3),\n",
              " ('Men-Shoes-Footwear', 'Casual Shoes-Unisex-Shoes-Footwear', 3),\n",
              " ('Nightdress-Women-Loungewear and Nightwear-Apparel',\n",
              "  'Shirts-Women-Topwear-Apparel',\n",
              "  3),\n",
              " ('Shirts-Men-Topwear-Apparel', 'Kurtas-Women-Topwear-Apparel', 3),\n",
              " ('Shorts-Men-Bottomwear-Apparel', 'Shorts-Boys-Bottomwear-Apparel', 3),\n",
              " ('Skirts-Women-Bottomwear-Apparel', 'Shirts-Women-Topwear-Apparel', 3),\n",
              " ('Sunglasses-Women-Eyewear-Accessories',\n",
              "  'Sunglasses-Unisex-Eyewear-Accessories',\n",
              "  3),\n",
              " ('Sweatshirts-Men-Topwear-Apparel', 'Jackets-Men-Topwear-Apparel', 3),\n",
              " ('Track Pants-Men-Bottomwear-Apparel', 'Jeans-Men-Bottomwear-Apparel', 3),\n",
              " ('Trousers-Men-Bottomwear-Apparel',\n",
              "  'Track Pants-Women-Bottomwear-Apparel',\n",
              "  3),\n",
              " ('Tshirts-Men-Topwear-Apparel', 'Tshirts-Women-Topwear-Apparel', 3),\n",
              " ('Tshirts-Unisex-Topwear-Apparel', 'Tshirts-Boys-Topwear-Apparel', 3),\n",
              " ('Wallets-Women-Wallets-Accessories', 'Handbags-Women-Bags-Accessories', 3),\n",
              " ('Wallets-Women-Wallets-Accessories', 'Wallets-Men-Wallets-Accessories', 3),\n",
              " ('Women-Shoes-Footwear', 'Flip Flops-Women-Flip Flops-Footwear', 3),\n",
              " ('Women-Shoes-Footwear', 'Sports Shoes-Footwear', 3),\n",
              " ('Backpacks-Unisex-Bags-Accessories', 'Shirts-Women-Topwear-Apparel', 2),\n",
              " ('Capris-Women-Bottomwear-Apparel', 'Jeans-Women-Bottomwear-Apparel', 2),\n",
              " ('Capris-Women-Bottomwear-Apparel', 'Trousers-Men-Bottomwear-Apparel', 2),\n",
              " ('Casual Shoes-Unisex-Shoes-Footwear', 'Sports Shoes-Footwear', 2),\n",
              " ('Casual Shoes-Women-Shoes-Footwear',\n",
              "  'Casual Shoes-Unisex-Shoes-Footwear',\n",
              "  2),\n",
              " ('Casual Shoes-Women-Shoes-Footwear', 'Socks-Accessories', 2),\n",
              " ('Duffel Bag-Unisex-Bags-Accessories', 'Handbags-Women-Bags-Accessories', 2),\n",
              " ('Flip Flops-Men-Flip Flops-Footwear',\n",
              "  'Flip Flops-Women-Flip Flops-Footwear',\n",
              "  2),\n",
              " ('Flip Flops-Unisex-Flip Flops-Footwear', 'Women-Shoes-Footwear', 2),\n",
              " ('Flip Flops-Women-Flip Flops-Footwear', 'Sandals-Men-Sandal-Footwear', 2),\n",
              " ('Handbags-Unisex-Bags-Accessories', 'Clutches-Women-Bags-Accessories', 2),\n",
              " ('Handbags-Women-Bags-Accessories', 'Duffel Bag-Unisex-Bags-Accessories', 2),\n",
              " ('Handbags-Women-Bags-Accessories', 'Shorts-Men-Bottomwear-Apparel', 2),\n",
              " ('Jackets-Women-Topwear-Apparel', 'Kurtas-Women-Topwear-Apparel', 2),\n",
              " ('Jeans-Women-Bottomwear-Apparel', 'Trousers-Women-Bottomwear-Apparel', 2),\n",
              " ('Kurtas-Men-Topwear-Apparel', 'Kurtas-Women-Topwear-Apparel', 2),\n",
              " ('Kurtas-Women-Topwear-Apparel', 'Kurtis-Women-Topwear-Apparel', 2),\n",
              " ('Kurtas-Women-Topwear-Apparel', 'Sarees-Women-Saree-Apparel', 2),\n",
              " ('Kurtas-Women-Topwear-Apparel', 'Tshirts-Women-Topwear-Apparel', 2),\n",
              " ('Kurtis-Women-Topwear-Apparel', 'Shirts-Men-Topwear-Apparel', 2),\n",
              " ('Laptop Bag-Unisex-Bags-Accessories',\n",
              "  'Duffel Bag-Unisex-Bags-Accessories',\n",
              "  2),\n",
              " ('Night suits-Men-Loungewear and Nightwear-Apparel',\n",
              "  'Night suits-Women-Loungewear and Nightwear-Apparel',\n",
              "  2),\n",
              " ('Night suits-Women-Loungewear and Nightwear-Apparel',\n",
              "  'Kurta Sets-Women-Apparel Set-Apparel',\n",
              "  2),\n",
              " ('Night suits-Women-Loungewear and Nightwear-Apparel',\n",
              "  'Shirts-Women-Topwear-Apparel',\n",
              "  2),\n",
              " ('Nightdress-Women-Loungewear and Nightwear-Apparel',\n",
              "  'Night suits-Women-Loungewear and Nightwear-Apparel',\n",
              "  2),\n",
              " ('Sandals-Men-Sandal-Footwear', 'Sports Shoes-Footwear', 2),\n",
              " ('Sandals-Unisex-Sandal-Footwear', 'Casual Shoes-Women-Shoes-Footwear', 2),\n",
              " ('Shirts-Boys-Topwear-Apparel', 'Tshirts-Boys-Topwear-Apparel', 2),\n",
              " ('Shirts-Men-Topwear-Apparel', 'Shirts-Boys-Topwear-Apparel', 2),\n",
              " ('Socks-Accessories', 'Backpacks-Unisex-Bags-Accessories', 2),\n",
              " ('Sports Shoes-Footwear', 'Sandals-Men-Sandal-Footwear', 2),\n",
              " ('Sports Shoes-Footwear', 'Women-Shoes-Footwear', 2),\n",
              " ('Sweatshirts-Women-Topwear-Apparel', 'Jackets-Men-Topwear-Apparel', 2),\n",
              " ('Track Pants-Men-Bottomwear-Apparel', 'Shorts-Men-Bottomwear-Apparel', 2),\n",
              " ('Track Pants-Men-Bottomwear-Apparel', 'Socks-Accessories', 2),\n",
              " ('Track Pants-Women-Bottomwear-Apparel',\n",
              "  'Track Pants-Men-Bottomwear-Apparel',\n",
              "  2),\n",
              " ('Trousers-Women-Bottomwear-Apparel', 'Shorts-Men-Bottomwear-Apparel', 2),\n",
              " ('Trousers-Women-Bottomwear-Apparel',\n",
              "  'Track Pants-Men-Bottomwear-Apparel',\n",
              "  2),\n",
              " ('Wallets-Women-Wallets-Accessories', 'Belts-Women-Belts-Accessories', 2)]"
            ]
          },
          "execution_count": 88,
          "metadata": {},
          "output_type": "execute_result"
        }
      ],
      "source": [
        "interp = ClassificationInterpretation.from_learner(learn)\n",
        "\n",
        "losses,idxs = interp.top_losses()\n",
        "\n",
        "len(data_fine_tuned.valid_ds)==len(losses)==len(idxs)\n",
        "\n",
        "interp.most_confused(min_val=2)"
      ]
    },
    {
      "cell_type": "code",
      "execution_count": 111,
      "metadata": {
        "id": "eTj94cQG_3We"
      },
      "outputs": [],
      "source": [
        "#Viewing top losses interpreted from the model\n",
        "#interp.plot_top_losses(4, figsize=(15,6))"
      ]
    },
    {
      "cell_type": "code",
      "execution_count": 122,
      "metadata": {
        "colab": {
          "base_uri": "https://localhost:8080/",
          "height": 114
        },
        "id": "qE4-qebE_3ts",
        "outputId": "fe9c4c2f-0c29-4703-fbd0-4e56597c76f1"
      },
      "outputs": [
        {
          "name": "stdout",
          "output_type": "stream",
          "text": [
            "Jeans-Men-Bottomwear-Apparel\n"
          ]
        },
        {
          "data": {
            "image/jpeg": "[encoded data removed]",
            "image/png": "[encoded data removed]",
            "text/plain": [
              "Image (3, 80, 60)"
            ]
          },
          "execution_count": 122,
          "metadata": {},
          "output_type": "execute_result"
        }
      ],
      "source": [
        "#Testing a image\n",
        "print(df_fine_tuned['label'][8948])\n",
        "test = open_image(base_path/'images'/df_fine_tuned['name'][8948])\n",
        "test"
      ]
    },
    {
      "cell_type": "code",
      "execution_count": 120,
      "metadata": {
        "colab": {
          "base_uri": "https://localhost:8080/"
        },
        "id": "lDjujT1GCS5G",
        "outputId": "e4227349-f5bd-4be8-cacd-16da9bb5f234"
      },
      "outputs": [
        {
          "data": {
            "text/plain": [
              "(Category tensor(19),\n",
              " tensor(19),\n",
              " tensor([3.6732e-08, 2.3225e-07, 3.9777e-08, 3.1521e-08, 2.4532e-06, 1.2124e-07,\n",
              "         2.3871e-08, 1.2561e-08, 1.1330e-08, 9.6072e-09, 4.5247e-08, 1.9457e-07,\n",
              "         1.5139e-08, 2.8338e-08, 2.7058e-08, 1.2069e-08, 1.4899e-09, 2.5683e-07,\n",
              "         1.6308e-07, 9.9708e-01, 1.3989e-03, 4.5192e-07, 3.0539e-06, 3.7388e-06,\n",
              "         8.7186e-07, 3.8528e-08, 1.4310e-06, 2.2692e-08, 9.2855e-07, 2.7590e-06,\n",
              "         2.4267e-06, 1.0633e-08, 9.2422e-09, 8.3589e-06, 4.7603e-08, 2.4733e-06,\n",
              "         1.9993e-07, 8.2897e-08, 2.5379e-06, 3.4351e-07, 4.0960e-07, 5.1331e-07,\n",
              "         1.4364e-07, 3.8260e-07, 1.5908e-07, 4.4495e-08, 1.2144e-07, 4.5326e-08,\n",
              "         3.4406e-07, 3.1728e-08, 8.0602e-07, 5.5032e-04, 4.9944e-05, 6.9030e-04,\n",
              "         1.9611e-04, 2.2209e-09, 1.4289e-07, 2.2350e-08, 2.7683e-08, 9.0616e-08,\n",
              "         3.9588e-09, 2.0839e-07, 1.3429e-07, 1.0889e-07, 9.4392e-09]))"
            ]
          },
          "execution_count": 120,
          "metadata": {},
          "output_type": "execute_result"
        }
      ],
      "source": [
        "#Running inference\n",
        "learn.predict(test)"
      ]
    },
    {
      "cell_type": "code",
      "execution_count": 121,
      "metadata": {
        "colab": {
          "base_uri": "https://localhost:8080/",
          "height": 35
        },
        "id": "wLkCtraFJ1L2",
        "outputId": "b987b7b4-645b-46a9-c8ea-0558a2212305"
      },
      "outputs": [
        {
          "data": {
            "application/vnd.google.colaboratory.intrinsic+json": {
              "type": "string"
            },
            "text/plain": [
              "'Jeans-Men-Bottomwear-Apparel'"
            ]
          },
          "execution_count": 121,
          "metadata": {},
          "output_type": "execute_result"
        }
      ],
      "source": [
        "data_fine_tuned.classes[19]"
      ]
    },
    {
      "cell_type": "code",
      "execution_count": 92,
      "metadata": {
        "colab": {
          "base_uri": "https://localhost:8080/"
        },
        "id": "0v0ZWkv_CS_T",
        "outputId": "d310ffdf-db45-4ca6-d222-8cdaa484aa94"
      },
      "outputs": [
        {
          "data": {
            "text/plain": [
              "['Backpacks-Men-Bags-Accessories',\n",
              " 'Backpacks-Unisex-Bags-Accessories',\n",
              " 'Belts-Men-Belts-Accessories',\n",
              " 'Belts-Women-Belts-Accessories',\n",
              " 'Capris-Women-Bottomwear-Apparel',\n",
              " 'Caps-Men-Headwear-Accessories',\n",
              " 'Caps-Unisex-Headwear-Accessories',\n",
              " 'Casual Shoes-Unisex-Shoes-Footwear',\n",
              " 'Casual Shoes-Women-Shoes-Footwear',\n",
              " 'Clutches-Women-Bags-Accessories',\n",
              " 'Dresses-Girls-Dress-Apparel',\n",
              " 'Duffel Bag-Unisex-Bags-Accessories',\n",
              " 'Flip Flops-Men-Flip Flops-Footwear',\n",
              " 'Flip Flops-Unisex-Flip Flops-Footwear',\n",
              " 'Flip Flops-Women-Flip Flops-Footwear',\n",
              " 'Handbags-Unisex-Bags-Accessories',\n",
              " 'Handbags-Women-Bags-Accessories',\n",
              " 'Jackets-Men-Topwear-Apparel',\n",
              " 'Jackets-Women-Topwear-Apparel',\n",
              " 'Jeans-Men-Bottomwear-Apparel',\n",
              " 'Jeans-Women-Bottomwear-Apparel',\n",
              " 'Kurta Sets-Women-Apparel Set-Apparel',\n",
              " 'Kurtas-Men-Topwear-Apparel',\n",
              " 'Kurtas-Women-Topwear-Apparel',\n",
              " 'Kurtis-Women-Topwear-Apparel',\n",
              " 'Laptop Bag-Unisex-Bags-Accessories',\n",
              " 'Leggings-Women-Bottomwear-Apparel',\n",
              " 'Men-Shoes-Footwear',\n",
              " 'Night suits-Men-Loungewear and Nightwear-Apparel',\n",
              " 'Night suits-Women-Loungewear and Nightwear-Apparel',\n",
              " 'Nightdress-Women-Loungewear and Nightwear-Apparel',\n",
              " 'Sandals-Men-Sandal-Footwear',\n",
              " 'Sandals-Unisex-Sandal-Footwear',\n",
              " 'Sarees-Women-Saree-Apparel',\n",
              " 'Shirts-Boys-Topwear-Apparel',\n",
              " 'Shirts-Men-Topwear-Apparel',\n",
              " 'Shirts-Women-Topwear-Apparel',\n",
              " 'Shorts-Boys-Bottomwear-Apparel',\n",
              " 'Shorts-Men-Bottomwear-Apparel',\n",
              " 'Shorts-Women-Bottomwear-Apparel',\n",
              " 'Skirts-Women-Bottomwear-Apparel',\n",
              " 'Socks-Accessories',\n",
              " 'Sports Shoes-Footwear',\n",
              " 'Sunglasses-Men-Eyewear-Accessories',\n",
              " 'Sunglasses-Unisex-Eyewear-Accessories',\n",
              " 'Sunglasses-Women-Eyewear-Accessories',\n",
              " 'Sweaters-Men-Topwear-Apparel',\n",
              " 'Sweaters-Women-Topwear-Apparel',\n",
              " 'Sweatshirts-Men-Topwear-Apparel',\n",
              " 'Sweatshirts-Women-Topwear-Apparel',\n",
              " 'Ties-Men-Ties-Accessories',\n",
              " 'Track Pants-Men-Bottomwear-Apparel',\n",
              " 'Track Pants-Women-Bottomwear-Apparel',\n",
              " 'Trousers-Men-Bottomwear-Apparel',\n",
              " 'Trousers-Women-Bottomwear-Apparel',\n",
              " 'Tshirts-Boys-Topwear-Apparel',\n",
              " 'Tshirts-Men-Topwear-Apparel',\n",
              " 'Tshirts-Unisex-Topwear-Apparel',\n",
              " 'Tshirts-Women-Topwear-Apparel',\n",
              " 'Wallets-Men-Wallets-Accessories',\n",
              " 'Wallets-Women-Wallets-Accessories',\n",
              " 'Watches-Men-Watches-Accessories',\n",
              " 'Watches-Unisex-Watches-Accessories',\n",
              " 'Watches-Women-Watches-Accessories',\n",
              " 'Women-Shoes-Footwear']"
            ]
          },
          "execution_count": 92,
          "metadata": {},
          "output_type": "execute_result"
        }
      ],
      "source": [
        "#list of labels \n",
        "data_fine_tuned.classes"
      ]
    },
    {
      "cell_type": "code",
      "execution_count": 114,
      "metadata": {
        "id": "I_7OT5kZCTE2"
      },
      "outputs": [],
      "source": [
        "#save model as pytorch\n",
        "learn.save('Fashion_model-fine_tuned')"
      ]
    },
    {
      "cell_type": "code",
      "execution_count": 113,
      "metadata": {
        "id": "EMHy-huACTJY"
      },
      "outputs": [],
      "source": [
        "#Saving model as binary format\n",
        "learn.path = Path(\"gdrive/MyDrive/Saved_model\")\n",
        "learn.export()"
      ]
    },
    {
      "cell_type": "code",
      "execution_count": 116,
      "metadata": {
        "id": "_vBdkLCZCTNr"
      },
      "outputs": [],
      "source": [
        "#Saving the label as csv file\n",
        "labels = pd.DataFrame(data={\"labels\": data_fine_tuned.classes})\n",
        "labels.to_csv(\"labels.csv\", sep=',',index=False,header=False)"
      ]
    },
    {
      "cell_type": "code",
      "execution_count": 115,
      "metadata": {
        "colab": {
          "base_uri": "https://localhost:8080/"
        },
        "id": "zB7EJ7AmCzH_",
        "outputId": "696ee1a0-6171-40dc-8255-68ec00bfefbf"
      },
      "outputs": [
        {
          "data": {
            "text/plain": [
              "PosixPath('gdrive/MyDrive/Saved_model')"
            ]
          },
          "execution_count": 115,
          "metadata": {},
          "output_type": "execute_result"
        }
      ],
      "source": [
        "learn.path"
      ]
    },
    {
      "cell_type": "code",
      "execution_count": 117,
      "metadata": {
        "id": "AtGTgw31CzLZ"
      },
      "outputs": [],
      "source": [
        "learn.export('saved_model.pkl')"
      ]
    },
    {
      "cell_type": "code",
      "execution_count": 100,
      "metadata": {
        "id": "AKAKHiUJCzO8"
      },
      "outputs": [],
      "source": []
    },
    {
      "cell_type": "code",
      "execution_count": 101,
      "metadata": {
        "colab": {
          "base_uri": "https://localhost:8080/"
        },
        "id": "wtQdaRsSCzSB",
        "outputId": "5e98d0e2-9535-46cc-8093-dc24469ab565"
      },
      "outputs": [
        {
          "name": "stdout",
          "output_type": "stream",
          "text": [
            "Stored 'labels' (DataFrame)\n"
          ]
        }
      ],
      "source": [
        "%store labels"
      ]
    }
  ],
  "metadata": {
    "accelerator": "GPU",
    "colab": {
      "collapsed_sections": [],
      "name": "image_model_train.ipynb",
      "provenance": []
    },
    "gpuClass": "standard",
    "kernelspec": {
      "display_name": "Python 3.9.1 64-bit",
      "language": "python",
      "name": "python3"
    },
    "language_info": {
      "name": "python",
      "version": "3.9.1"
    },
    "vscode": {
      "interpreter": {
        "hash": "81794d4967e6c3204c66dcd87b604927b115b27c00565d3d43f05ba2f3a2cb0d"
      }
    }
  },
  "nbformat": 4,
  "nbformat_minor": 0
}
