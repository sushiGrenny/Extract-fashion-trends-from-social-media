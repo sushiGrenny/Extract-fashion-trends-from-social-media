{
 "cells": [
  {
   "cell_type": "code",
   "execution_count": 1,
   "metadata": {},
   "outputs": [],
   "source": [
    "import pandas as pd\n",
    "import numpy as np\n",
    "import seaborn as sns\n",
    "\n",
    "import nltk\n",
    "import unicodedata\n",
    "from nltk.corpus import stopwords\n",
    "import re\n",
    "from itertools import chain\n",
    "import unicodedata"
   ]
  },
  {
   "cell_type": "code",
   "execution_count": 2,
   "metadata": {},
   "outputs": [
    {
     "name": "stderr",
     "output_type": "stream",
     "text": [
      "C:\\Users\\anike\\AppData\\Roaming\\Python\\Python39\\site-packages\\IPython\\core\\interactiveshell.py:3418: DtypeWarning: Columns (7,8,9,10,11,12,13,14,15,16,17,18,19,20,21,22,23,24,25,26,27,28,29,30,31,32,33,34,35,36,37,38,39,40,41,42,43,44,45,46,47,48,49,50,51) have mixed types.Specify dtype option on import or set low_memory=False.\n",
      "  exec(code_obj, self.user_global_ns, self.user_ns)\n"
     ]
    },
    {
     "data": {
      "text/plain": [
       "(31653, 52)"
      ]
     },
     "execution_count": 2,
     "metadata": {},
     "output_type": "execute_result"
    }
   ],
   "source": [
    "raw_data = pd.read_csv('finaldata.csv')\n",
    "raw_data.shape"
   ]
  },
  {
   "cell_type": "code",
   "execution_count": 3,
   "metadata": {},
   "outputs": [
    {
     "name": "stderr",
     "output_type": "stream",
     "text": [
      "c:\\Python39\\lib\\site-packages\\pandas\\util\\_decorators.py:311: SettingWithCopyWarning: \n",
      "A value is trying to be set on a copy of a slice from a DataFrame\n",
      "\n",
      "See the caveats in the documentation: https://pandas.pydata.org/pandas-docs/stable/user_guide/indexing.html#returning-a-view-versus-a-copy\n",
      "  return func(*args, **kwargs)\n"
     ]
    }
   ],
   "source": [
    "new_data = raw_data.iloc[:,[2,3,4,6]]\n",
    "coloumns = ['retweets','replies','likes', 'text' ]\n",
    "new_data.columns = coloumns\n",
    "\n",
    "new_data.drop_duplicates(subset =\"text\",\n",
    "                     keep = \"first\", inplace = True)\n",
    "new_data = new_data.reset_index(drop=True)\n"
   ]
  },
  {
   "cell_type": "code",
   "execution_count": 4,
   "metadata": {},
   "outputs": [
    {
     "name": "stdout",
     "output_type": "stream",
     "text": [
      "0        text:\"RT @harzior: Keep on smiling classic tee...\n",
      "1        text:\"Readers make leaders classic tee in as m...\n",
      "2        text:\"I love Reading classic tee in as many co...\n",
      "3        text:\"Votes for Women classic tee in as many c...\n",
      "4        text:\"Hawkins High School classic tee in as ma...\n",
      "                               ...                        \n",
      "16755                      text:\"https://t.co/I30WP0VgnC\"}\n",
      "16756    text:\"29/07/2022 20:00:01: XBT Bitmex Trollbox...\n",
      "16757    text:\"@aksysgames this is how I feel about Nor...\n",
      "16758    text:\"RT @RiCcONyC1: Workouts Be Startin Off W...\n",
      "16759             text:\"@girlgone_crypto Always a hoot 👍\"}\n",
      "Name: text, Length: 16760, dtype: object\n"
     ]
    }
   ],
   "source": [
    "#LIST OF SENTENCES\n",
    "sentences = new_data['text']\n",
    "print(sentences)"
   ]
  },
  {
   "cell_type": "code",
   "execution_count": 5,
   "metadata": {},
   "outputs": [
    {
     "name": "stdout",
     "output_type": "stream",
     "text": [
      "7522\n"
     ]
    }
   ],
   "source": [
    "%store -r unique_words\n",
    "print(len(unique_words))"
   ]
  },
  {
   "cell_type": "code",
   "execution_count": 6,
   "metadata": {},
   "outputs": [],
   "source": [
    "def unicode_to_ascii(s):\n",
    "    return ''.join(c for c in unicodedata.normalize('NFD', s) if unicodedata.category(c) != 'Mn')\n",
    "\n",
    "def clean_stopwords_shortwords(w):\n",
    "    stopwords_list=stopwords.words('english')\n",
    "    words = w.split() \n",
    "    clean_words = [word for word in words if (word not in stopwords_list) and len(word) > 2]\n",
    "\n",
    "    clean_wordss = [word for word in clean_words if word in unique_words and len(word) > 2]\n",
    "    unnecessary_words = [\"text\", \"fashion\",'feel', 'always', 'mirror' \"sale\",\"art\",\"dear\",\"car\", \"love\", \"beauty\", \"style\", \"brand\", \"holiday\", \"new\", \"good\", \"check\",\"self\"]\n",
    "    #good_words = [\"men\", \"women\", \"man\", \"woman\", \"boys\", \"girls\", \"male\", \"female\"]\n",
    "    clean_wordsss = [word for word in clean_wordss if (word not in unnecessary_words)]\n",
    "    #clean_words = [word for word in words if (word not in stopwords_list) and len(word) > 2]\n",
    "    #clean_words = [word for word in words if (word in good_words) and len(word)>2]\n",
    "    \n",
    "    \n",
    "    return \" \".join(clean_wordsss) \n",
    "\n",
    "def preprocess_sentence(w):\n",
    "    w = unicode_to_ascii(w.lower().strip())\n",
    "    w = re.sub(r\"([?.!,¿])\", r\" \", w)\n",
    "    w = re.sub(r'[\" \"]+', \" \", w)\n",
    "    w = re.sub(r\"[^a-zA-Z?.!,¿]+\", \" \", w)\n",
    "    w = re.sub(r\"text+\",\"\",w) #removing \"text\" from every sentence\n",
    "    w = re.sub(r\"https+\",\"\",w)\n",
    "    w=clean_stopwords_shortwords(w)\n",
    "    w=re.sub(r'@\\w+', '',w)\n",
    "    return w"
   ]
  },
  {
   "cell_type": "code",
   "execution_count": 7,
   "metadata": {},
   "outputs": [],
   "source": [
    "sentences= sentences.astype(str)\n",
    "good_sentences = sentences.map(preprocess_sentence)\n",
    "new_data['text'] = good_sentences"
   ]
  },
  {
   "cell_type": "code",
   "execution_count": 8,
   "metadata": {},
   "outputs": [
    {
     "data": {
      "text/html": [
       "<div>\n",
       "<style scoped>\n",
       "    .dataframe tbody tr th:only-of-type {\n",
       "        vertical-align: middle;\n",
       "    }\n",
       "\n",
       "    .dataframe tbody tr th {\n",
       "        vertical-align: top;\n",
       "    }\n",
       "\n",
       "    .dataframe thead th {\n",
       "        text-align: right;\n",
       "    }\n",
       "</style>\n",
       "<table border=\"1\" class=\"dataframe\">\n",
       "  <thead>\n",
       "    <tr style=\"text-align: right;\">\n",
       "      <th></th>\n",
       "      <th>retweets</th>\n",
       "      <th>replies</th>\n",
       "      <th>likes</th>\n",
       "      <th>text</th>\n",
       "    </tr>\n",
       "  </thead>\n",
       "  <tbody>\n",
       "    <tr>\n",
       "      <th>0</th>\n",
       "      <td>1.0</td>\n",
       "      <td>490.0</td>\n",
       "      <td>469.0</td>\n",
       "      <td>keep smiling classic tee colors possible men w...</td>\n",
       "    </tr>\n",
       "    <tr>\n",
       "      <th>1</th>\n",
       "      <td>0.0</td>\n",
       "      <td>393.0</td>\n",
       "      <td>500.0</td>\n",
       "      <td>make classic tee colors possible men women shi...</td>\n",
       "    </tr>\n",
       "    <tr>\n",
       "      <th>2</th>\n",
       "      <td>0.0</td>\n",
       "      <td>443.0</td>\n",
       "      <td>343.0</td>\n",
       "      <td>classic tee colors possible men women shirts p...</td>\n",
       "    </tr>\n",
       "    <tr>\n",
       "      <th>3</th>\n",
       "      <td>0.0</td>\n",
       "      <td>424.0</td>\n",
       "      <td>406.0</td>\n",
       "      <td>women classic tee colors possible men women sh...</td>\n",
       "    </tr>\n",
       "    <tr>\n",
       "      <th>4</th>\n",
       "      <td>0.0</td>\n",
       "      <td>354.0</td>\n",
       "      <td>460.0</td>\n",
       "      <td>high school classic tee colors possible men wo...</td>\n",
       "    </tr>\n",
       "  </tbody>\n",
       "</table>\n",
       "</div>"
      ],
      "text/plain": [
       "   retweets  replies  likes                                               text\n",
       "0       1.0    490.0  469.0  keep smiling classic tee colors possible men w...\n",
       "1       0.0    393.0  500.0  make classic tee colors possible men women shi...\n",
       "2       0.0    443.0  343.0  classic tee colors possible men women shirts p...\n",
       "3       0.0    424.0  406.0  women classic tee colors possible men women sh...\n",
       "4       0.0    354.0  460.0  high school classic tee colors possible men wo..."
      ]
     },
     "execution_count": 8,
     "metadata": {},
     "output_type": "execute_result"
    }
   ],
   "source": [
    "#DELETING EMPTY AND DUPLICATE ROWS\n",
    "\n",
    "from more_itertools import first\n",
    "count = 0\n",
    "for i in range(0, len(sentences),1):\n",
    "    if (good_sentences[i]==''):\n",
    "        count+=1\n",
    "        new_data = new_data.drop(labels=i, axis=0)  \n",
    "             \n",
    "new_data = new_data.reset_index(drop=True)\n",
    "new_data.head()"
   ]
  },
  {
   "cell_type": "code",
   "execution_count": 9,
   "metadata": {},
   "outputs": [
    {
     "data": {
      "text/html": [
       "<div>\n",
       "<style scoped>\n",
       "    .dataframe tbody tr th:only-of-type {\n",
       "        vertical-align: middle;\n",
       "    }\n",
       "\n",
       "    .dataframe tbody tr th {\n",
       "        vertical-align: top;\n",
       "    }\n",
       "\n",
       "    .dataframe thead th {\n",
       "        text-align: right;\n",
       "    }\n",
       "</style>\n",
       "<table border=\"1\" class=\"dataframe\">\n",
       "  <thead>\n",
       "    <tr style=\"text-align: right;\">\n",
       "      <th></th>\n",
       "      <th>retweets</th>\n",
       "      <th>replies</th>\n",
       "      <th>likes</th>\n",
       "      <th>text</th>\n",
       "    </tr>\n",
       "  </thead>\n",
       "  <tbody>\n",
       "    <tr>\n",
       "      <th>0</th>\n",
       "      <td>1.0</td>\n",
       "      <td>490.0</td>\n",
       "      <td>469.0</td>\n",
       "      <td>keep smiling classic tee colors possible men w...</td>\n",
       "    </tr>\n",
       "    <tr>\n",
       "      <th>1</th>\n",
       "      <td>0.0</td>\n",
       "      <td>393.0</td>\n",
       "      <td>500.0</td>\n",
       "      <td>make classic tee colors possible men women shi...</td>\n",
       "    </tr>\n",
       "    <tr>\n",
       "      <th>2</th>\n",
       "      <td>0.0</td>\n",
       "      <td>443.0</td>\n",
       "      <td>343.0</td>\n",
       "      <td>classic tee colors possible men women shirts p...</td>\n",
       "    </tr>\n",
       "    <tr>\n",
       "      <th>3</th>\n",
       "      <td>0.0</td>\n",
       "      <td>424.0</td>\n",
       "      <td>406.0</td>\n",
       "      <td>women classic tee colors possible men women sh...</td>\n",
       "    </tr>\n",
       "    <tr>\n",
       "      <th>4</th>\n",
       "      <td>0.0</td>\n",
       "      <td>354.0</td>\n",
       "      <td>460.0</td>\n",
       "      <td>high school classic tee colors possible men wo...</td>\n",
       "    </tr>\n",
       "    <tr>\n",
       "      <th>...</th>\n",
       "      <td>...</td>\n",
       "      <td>...</td>\n",
       "      <td>...</td>\n",
       "      <td>...</td>\n",
       "    </tr>\n",
       "    <tr>\n",
       "      <th>11747</th>\n",
       "      <td>0.0</td>\n",
       "      <td>191.0</td>\n",
       "      <td>277.0</td>\n",
       "      <td>try essential blues shorts</td>\n",
       "    </tr>\n",
       "    <tr>\n",
       "      <th>11748</th>\n",
       "      <td>0.0</td>\n",
       "      <td>244.0</td>\n",
       "      <td>221.0</td>\n",
       "      <td>ball play sports hannah</td>\n",
       "    </tr>\n",
       "    <tr>\n",
       "      <th>11749</th>\n",
       "      <td>12.0</td>\n",
       "      <td>266.0</td>\n",
       "      <td>181.0</td>\n",
       "      <td>red compression shorts</td>\n",
       "    </tr>\n",
       "    <tr>\n",
       "      <th>11750</th>\n",
       "      <td>0.0</td>\n",
       "      <td>291.0</td>\n",
       "      <td>253.0</td>\n",
       "      <td>long</td>\n",
       "    </tr>\n",
       "    <tr>\n",
       "      <th>11751</th>\n",
       "      <td>758.0</td>\n",
       "      <td>248.0</td>\n",
       "      <td>160.0</td>\n",
       "      <td>mirror shorts</td>\n",
       "    </tr>\n",
       "  </tbody>\n",
       "</table>\n",
       "<p>11752 rows × 4 columns</p>\n",
       "</div>"
      ],
      "text/plain": [
       "       retweets  replies  likes  \\\n",
       "0           1.0    490.0  469.0   \n",
       "1           0.0    393.0  500.0   \n",
       "2           0.0    443.0  343.0   \n",
       "3           0.0    424.0  406.0   \n",
       "4           0.0    354.0  460.0   \n",
       "...         ...      ...    ...   \n",
       "11747       0.0    191.0  277.0   \n",
       "11748       0.0    244.0  221.0   \n",
       "11749      12.0    266.0  181.0   \n",
       "11750       0.0    291.0  253.0   \n",
       "11751     758.0    248.0  160.0   \n",
       "\n",
       "                                                    text  \n",
       "0      keep smiling classic tee colors possible men w...  \n",
       "1      make classic tee colors possible men women shi...  \n",
       "2      classic tee colors possible men women shirts p...  \n",
       "3      women classic tee colors possible men women sh...  \n",
       "4      high school classic tee colors possible men wo...  \n",
       "...                                                  ...  \n",
       "11747                         try essential blues shorts  \n",
       "11748                            ball play sports hannah  \n",
       "11749                             red compression shorts  \n",
       "11750                                               long  \n",
       "11751                                      mirror shorts  \n",
       "\n",
       "[11752 rows x 4 columns]"
      ]
     },
     "execution_count": 9,
     "metadata": {},
     "output_type": "execute_result"
    }
   ],
   "source": [
    "new_data"
   ]
  },
  {
   "cell_type": "code",
   "execution_count": 10,
   "metadata": {},
   "outputs": [
    {
     "name": "stdout",
     "output_type": "stream",
     "text": [
      "Stored 'good_sentences' (Series)\n",
      "Stored 'new_data' (DataFrame)\n"
     ]
    }
   ],
   "source": [
    "good_sentences = new_data['text']\n",
    "%store good_sentences\n",
    "%store new_data"
   ]
  },
  {
   "cell_type": "code",
   "execution_count": 11,
   "metadata": {},
   "outputs": [
    {
     "data": {
      "text/plain": [
       "0        keep smiling classic tee colors possible men w...\n",
       "1        make classic tee colors possible men women shi...\n",
       "2        classic tee colors possible men women shirts p...\n",
       "3        women classic tee colors possible men women sh...\n",
       "4        high school classic tee colors possible men wo...\n",
       "                               ...                        \n",
       "11747                           try essential blues shorts\n",
       "11748                              ball play sports hannah\n",
       "11749                               red compression shorts\n",
       "11750                                                 long\n",
       "11751                                        mirror shorts\n",
       "Name: text, Length: 11752, dtype: object"
      ]
     },
     "execution_count": 11,
     "metadata": {},
     "output_type": "execute_result"
    }
   ],
   "source": [
    "good_sentences"
   ]
  },
  {
   "cell_type": "code",
   "execution_count": null,
   "metadata": {},
   "outputs": [],
   "source": []
  }
 ],
 "metadata": {
  "kernelspec": {
   "display_name": "Python 3.9.1 64-bit",
   "language": "python",
   "name": "python3"
  },
  "language_info": {
   "codemirror_mode": {
    "name": "ipython",
    "version": 3
   },
   "file_extension": ".py",
   "mimetype": "text/x-python",
   "name": "python",
   "nbconvert_exporter": "python",
   "pygments_lexer": "ipython3",
   "version": "3.9.1"
  },
  "orig_nbformat": 4,
  "vscode": {
   "interpreter": {
    "hash": "81794d4967e6c3204c66dcd87b604927b115b27c00565d3d43f05ba2f3a2cb0d"
   }
  }
 },
 "nbformat": 4,
 "nbformat_minor": 2
}
